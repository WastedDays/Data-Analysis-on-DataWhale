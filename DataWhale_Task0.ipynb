{
  "nbformat": 4,
  "nbformat_minor": 0,
  "metadata": {
    "colab": {
      "name": "DataWhale_Task0.ipynb",
      "version": "0.3.2",
      "provenance": [],
      "collapsed_sections": []
    },
    "kernelspec": {
      "name": "python3",
      "display_name": "Python 3"
    }
  },
  "cells": [
    {
      "cell_type": "code",
      "metadata": {
        "id": "kYFE3Navze2j",
        "colab_type": "code",
        "colab": {}
      },
      "source": [
        "# Jupyter 环境搭建完成的测试文档。"
      ],
      "execution_count": 0,
      "outputs": []
    },
    {
      "cell_type": "markdown",
      "metadata": {
        "id": "o6r0VlJ2zrn0",
        "colab_type": "text"
      },
      "source": [
        ""
      ]
    },
    {
      "cell_type": "code",
      "metadata": {
        "id": "CaCls1hCz9wf",
        "colab_type": "code",
        "outputId": "48d88e6c-65ec-4a91-f15d-9cc79e1b1849",
        "colab": {
          "base_uri": "https://localhost:8080/",
          "height": 34
        }
      },
      "source": [
        "import numpy as np\n",
        "print(np.__version__)"
      ],
      "execution_count": 0,
      "outputs": [
        {
          "output_type": "stream",
          "text": [
            "1.16.4\n"
          ],
          "name": "stdout"
        }
      ]
    }
  ]
}